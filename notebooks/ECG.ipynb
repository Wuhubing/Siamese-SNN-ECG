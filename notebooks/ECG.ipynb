{
 "cells": [
  {
   "cell_type": "code",
   "execution_count": 1,
   "id": "692599d6-9fe3-4aa8-adac-c71a80aa0e4c",
   "metadata": {},
   "outputs": [
    {
     "name": "stdout",
     "output_type": "stream",
     "text": [
      "开始数据预处理...\n",
      "\n",
      "分析原始数据:\n",
      "\n",
      "分析预处理后的数据:\n",
      "\n",
      "开始训练模型...\n"
     ]
    }
   ],
   "source": [
    "import sys\n",
    "sys.path.append('..')  # 添加项目根目录到路径\n",
    "\n",
    "import torch\n",
    "import numpy as np\n",
    "import pickle\n",
    "from src.models.snn import SNN, CombinedLoss\n",
    "from src.data.dataset import create_dataloaders\n",
    "from src.utils.training import train_model\n",
    "\n",
    "# 设置随机种子\n",
    "torch.manual_seed(42)\n",
    "if torch.cuda.is_available():\n",
    "    torch.cuda.manual_seed_all(42)\n",
    "\n",
    "def preprocess_data(processed_data):\n",
    "    \"\"\"\n",
    "    对数据进行预处理,包括标准化、归一化等\n",
    "    \"\"\"\n",
    "    # 获取训练集数据\n",
    "    X_train = processed_data['X_train'].numpy()\n",
    "    X_val = processed_data['X_val'].numpy() \n",
    "    X_test = processed_data['X_test'].numpy()\n",
    "    \n",
    "    # 1. 标准化 - 使用训练集的均值和标准差\n",
    "    mean = np.mean(X_train, axis=0)\n",
    "    std = np.std(X_train, axis=0)\n",
    "    X_train = (X_train - mean) / (std + 1e-8)\n",
    "    X_val = (X_val - mean) / (std + 1e-8)\n",
    "    X_test = (X_test - mean) / (std + 1e-8)\n",
    "    \n",
    "    # 2. 处理异常值\n",
    "    clip_value = 5.0  # 设置截断阈值\n",
    "    X_train = np.clip(X_train, -clip_value, clip_value)\n",
    "    X_val = np.clip(X_val, -clip_value, clip_value)\n",
    "    X_test = np.clip(X_test, -clip_value, clip_value)\n",
    "    \n",
    "    # 3. 转回PyTorch张量\n",
    "    processed_data['X_train'] = torch.FloatTensor(X_train)\n",
    "    processed_data['X_val'] = torch.FloatTensor(X_val)\n",
    "    processed_data['X_test'] = torch.FloatTensor(X_test)\n",
    "    \n",
    "    return processed_data\n",
    "\n",
    "def analyze_data(processed_data):\n",
    "    \"\"\"\n",
    "    分析数据分布和特征\n",
    "    \"\"\"\n",
    "    print(\"\\n数据分析:\")\n",
    "    print(f\"训练集形状: {processed_data['X_train'].shape}\")\n",
    "    print(f\"验证集形状: {processed_data['X_val'].shape}\")\n",
    "    print(f\"测试集形状: {processed_data['X_test'].shape}\")\n",
    "    \n",
    "    # 分析类别分布\n",
    "    print(\"\\n类别分布:\")\n",
    "    for split in ['train', 'val', 'test']:\n",
    "        labels = processed_data[f'y_{split}'].numpy()\n",
    "        unique, counts = np.unique(labels, return_counts=True)\n",
    "        print(f\"\\n{split.capitalize()}集:\")\n",
    "        for label, count in zip(unique, counts):\n",
    "            print(f\"类别 {processed_data['classes'][label]}: {count} \"\n",
    "                  f\"({count/len(labels)*100:.1f}%)\")\n",
    "    \n",
    "    # 绘制特征分布图\n",
    "    plt.figure(figsize=(12, 4))\n",
    "    \n",
    "    plt.subplot(121)\n",
    "    plt.hist(processed_data['X_train'].numpy().ravel(), bins=50, alpha=0.5)\n",
    "    plt.title('特征分布(标准化前)')\n",
    "    plt.xlabel('特征值')\n",
    "    plt.ylabel('频次')\n",
    "    \n",
    "    # 标准化后的分布\n",
    "    X_norm = (processed_data['X_train'].numpy() - \n",
    "              np.mean(processed_data['X_train'].numpy(), axis=0)) / \\\n",
    "             (np.std(processed_data['X_train'].numpy(), axis=0) + 1e-8)\n",
    "    \n",
    "    plt.subplot(122)\n",
    "    plt.hist(X_norm.ravel(), bins=50, alpha=0.5)\n",
    "    plt.title('特征分布(标准化后)')\n",
    "    plt.xlabel('特征值')\n",
    "    plt.ylabel('频次')\n",
    "    \n",
    "    plt.tight_layout()\n",
    "    plt.show()\n",
    "\n",
    "def check_data_quality(processed_data):\n",
    "    \"\"\"\n",
    "    检查数据质量\n",
    "    \"\"\"\n",
    "    print(\"\\n数据质量检查:\")\n",
    "    \n",
    "    # 检查缺失值\n",
    "    for split in ['train', 'val', 'test']:\n",
    "        X = processed_data[f'X_{split}'].numpy()\n",
    "        print(f\"\\n{split.capitalize()}集:\")\n",
    "        print(f\"缺失值数量: {np.isnan(X).sum()}\")\n",
    "        print(f\"无穷值数量: {np.isinf(X).sum()}\")\n",
    "        \n",
    "        # 检查异常值(超过3个标准差)\n",
    "        mean = np.mean(X, axis=0)\n",
    "        std = np.std(X, axis=0)\n",
    "        outliers = np.abs(X - mean) > 3 * std\n",
    "        print(f\"异常值比例: {outliers.sum() / X.size * 100:.2f}%\")\n",
    "        \n",
    "        # 检查零值比例\n",
    "        zero_ratio = (X == 0).sum() / X.size\n",
    "        print(f\"零值比例: {zero_ratio * 100:.2f}%\")\n",
    "\n",
    "# 在训练前使用这些函数\n",
    "print(\"开始数据预处理...\")\n",
    "with open('../data/processed/processed_data.pkl', 'rb') as f:\n",
    "    processed_data = pickle.load(f)\n",
    "\n",
    "# 分析原始数据\n",
    "print(\"\\n分析原始数据:\")\n",
    "# analyze_data(processed_data)\n",
    "\n",
    "# 检查数据质量\n",
    "# check_data_quality(processed_data)\n",
    "\n",
    "# 预处理数据\n",
    "# processed_data = preprocess_data(processed_data)\n",
    "\n",
    "# 分析预处理后的数据\n",
    "print(\"\\n分析预处理后的数据:\")\n",
    "# analyze_data(processed_data)\n",
    "# check_data_quality(processed_data)\n",
    "\n",
    "# 现在开始训练\n",
    "print(\"\\n开始训练模型...\")"
   ]
  },
  {
   "cell_type": "code",
   "execution_count": 2,
   "id": "e91a40c3-5e35-478f-be43-910a782c7932",
   "metadata": {},
   "outputs": [
    {
     "name": "stdout",
     "output_type": "stream",
     "text": [
      "Using device: cpu\n",
      "\n",
      "Data dimension check:\n",
      "Feature shape: torch.Size([14175, 222])\n",
      "Label shape: torch.Size([14175])\n",
      "Number of classes: 5\n",
      "\n",
      "First batch dimensions:\n",
      "x1 shape: torch.Size([128, 222])\n",
      "x2 shape: torch.Size([128, 1, 222])\n",
      "y1 shape: torch.Size([128])\n",
      "y2 shape: torch.Size([128, 1])\n",
      "\n",
      "Model configuration:\n",
      "Input dimension: 222\n",
      "Number of classes: 5\n",
      "\n",
      "Epoch 1/100\n"
     ]
    },
    {
     "name": "stderr",
     "output_type": "stream",
     "text": [
      "Training: 100%|███████████████████████████████████████| 111/111 [00:01<00:00, 65.61it/s]\n"
     ]
    },
    {
     "name": "stdout",
     "output_type": "stream",
     "text": [
      "Saved new best model with val_acc: 0.3422, val_loss: 2.1770\n",
      "Current LR: 0.000054\n",
      "Train Loss: 5.5373, Train Acc: 0.2154\n",
      "Val Loss: 2.1770, Val Acc: 0.3422\n",
      "\n",
      "Epoch 2/100\n"
     ]
    },
    {
     "name": "stderr",
     "output_type": "stream",
     "text": [
      "Training: 100%|███████████████████████████████████████| 111/111 [00:01<00:00, 71.45it/s]\n"
     ]
    },
    {
     "name": "stdout",
     "output_type": "stream",
     "text": [
      "Saved new best model with val_acc: 0.4558, val_loss: 2.0447\n",
      "Current LR: 0.000065\n",
      "Train Loss: 2.1853, Train Acc: 0.2875\n",
      "Val Loss: 2.0447, Val Acc: 0.4558\n",
      "\n",
      "Epoch 3/100\n"
     ]
    },
    {
     "name": "stderr",
     "output_type": "stream",
     "text": [
      "Training: 100%|███████████████████████████████████████| 111/111 [00:01<00:00, 67.15it/s]\n"
     ]
    },
    {
     "name": "stdout",
     "output_type": "stream",
     "text": [
      "Saved new best model with val_acc: 0.5284, val_loss: 1.8460\n",
      "Current LR: 0.000083\n",
      "Train Loss: 1.9968, Train Acc: 0.4014\n",
      "Val Loss: 1.8460, Val Acc: 0.5284\n",
      "\n",
      "Epoch 4/100\n"
     ]
    },
    {
     "name": "stderr",
     "output_type": "stream",
     "text": [
      "Training: 100%|███████████████████████████████████████| 111/111 [00:01<00:00, 67.21it/s]\n"
     ]
    },
    {
     "name": "stdout",
     "output_type": "stream",
     "text": [
      "Saved new best model with val_acc: 0.5738, val_loss: 1.6099\n",
      "Current LR: 0.000109\n",
      "Train Loss: 1.8446, Train Acc: 0.4899\n",
      "Val Loss: 1.6099, Val Acc: 0.5738\n",
      "\n",
      "Epoch 5/100\n"
     ]
    },
    {
     "name": "stderr",
     "output_type": "stream",
     "text": [
      "Training: 100%|███████████████████████████████████████| 111/111 [00:01<00:00, 62.58it/s]\n"
     ]
    },
    {
     "name": "stdout",
     "output_type": "stream",
     "text": [
      "Saved new best model with val_acc: 0.6385, val_loss: 1.4370\n",
      "Current LR: 0.000141\n",
      "Train Loss: 1.6575, Train Acc: 0.5696\n",
      "Val Loss: 1.4370, Val Acc: 0.6385\n",
      "\n",
      "Epoch 6/100\n"
     ]
    },
    {
     "name": "stderr",
     "output_type": "stream",
     "text": [
      "Training: 100%|███████████████████████████████████████| 111/111 [00:01<00:00, 68.53it/s]\n"
     ]
    },
    {
     "name": "stdout",
     "output_type": "stream",
     "text": [
      "Saved new best model with val_acc: 0.6657, val_loss: 1.3316\n",
      "Current LR: 0.000179\n",
      "Train Loss: 1.5140, Train Acc: 0.6201\n",
      "Val Loss: 1.3316, Val Acc: 0.6657\n",
      "\n",
      "Epoch 7/100\n"
     ]
    },
    {
     "name": "stderr",
     "output_type": "stream",
     "text": [
      "Training: 100%|███████████████████████████████████████| 111/111 [00:01<00:00, 71.35it/s]\n"
     ]
    },
    {
     "name": "stdout",
     "output_type": "stream",
     "text": [
      "Saved new best model with val_acc: 0.6919, val_loss: 1.2928\n",
      "Current LR: 0.000222\n",
      "Train Loss: 1.4247, Train Acc: 0.6560\n",
      "Val Loss: 1.2928, Val Acc: 0.6919\n",
      "\n",
      "Epoch 8/100\n"
     ]
    },
    {
     "name": "stderr",
     "output_type": "stream",
     "text": [
      "Training: 100%|███████████████████████████████████████| 111/111 [00:01<00:00, 72.16it/s]\n"
     ]
    },
    {
     "name": "stdout",
     "output_type": "stream",
     "text": [
      "Saved new best model with val_acc: 0.7427, val_loss: 1.2147\n",
      "Current LR: 0.000271\n",
      "Train Loss: 1.3576, Train Acc: 0.6863\n",
      "Val Loss: 1.2147, Val Acc: 0.7427\n",
      "\n",
      "Epoch 9/100\n"
     ]
    },
    {
     "name": "stderr",
     "output_type": "stream",
     "text": [
      "Training: 100%|███████████████████████████████████████| 111/111 [00:01<00:00, 72.54it/s]\n"
     ]
    },
    {
     "name": "stdout",
     "output_type": "stream",
     "text": [
      "Current LR: 0.000323\n",
      "Train Loss: 1.2898, Train Acc: 0.7144\n",
      "Val Loss: 1.1654, Val Acc: 0.7412\n",
      "\n",
      "Epoch 10/100\n"
     ]
    },
    {
     "name": "stderr",
     "output_type": "stream",
     "text": [
      "Training: 100%|███████████████████████████████████████| 111/111 [00:01<00:00, 72.41it/s]\n"
     ]
    },
    {
     "name": "stdout",
     "output_type": "stream",
     "text": [
      "Saved new best model with val_acc: 0.7684, val_loss: 1.1076\n",
      "Current LR: 0.000378\n",
      "Train Loss: 1.2393, Train Acc: 0.7366\n",
      "Val Loss: 1.1076, Val Acc: 0.7684\n",
      "\n",
      "Epoch 11/100\n"
     ]
    },
    {
     "name": "stderr",
     "output_type": "stream",
     "text": [
      "Training: 100%|███████████████████████████████████████| 111/111 [00:01<00:00, 71.41it/s]\n"
     ]
    },
    {
     "name": "stdout",
     "output_type": "stream",
     "text": [
      "Saved new best model with val_acc: 0.7951, val_loss: 1.0671\n",
      "Current LR: 0.000436\n",
      "Train Loss: 1.1916, Train Acc: 0.7562\n",
      "Val Loss: 1.0671, Val Acc: 0.7951\n",
      "\n",
      "Epoch 12/100\n"
     ]
    },
    {
     "name": "stderr",
     "output_type": "stream",
     "text": [
      "Training: 100%|███████████████████████████████████████| 111/111 [00:01<00:00, 72.40it/s]\n"
     ]
    },
    {
     "name": "stdout",
     "output_type": "stream",
     "text": [
      "Saved new best model with val_acc: 0.8173, val_loss: 1.0096\n",
      "Current LR: 0.000495\n",
      "Train Loss: 1.1336, Train Acc: 0.7769\n",
      "Val Loss: 1.0096, Val Acc: 0.8173\n",
      "\n",
      "Epoch 13/100\n"
     ]
    },
    {
     "name": "stderr",
     "output_type": "stream",
     "text": [
      "Training: 100%|███████████████████████████████████████| 111/111 [00:01<00:00, 72.35it/s]\n"
     ]
    },
    {
     "name": "stdout",
     "output_type": "stream",
     "text": [
      "Saved new best model with val_acc: 0.8306, val_loss: 0.9707\n",
      "Current LR: 0.000555\n",
      "Train Loss: 1.1017, Train Acc: 0.7909\n",
      "Val Loss: 0.9707, Val Acc: 0.8306\n",
      "\n",
      "Epoch 14/100\n"
     ]
    },
    {
     "name": "stderr",
     "output_type": "stream",
     "text": [
      "Training: 100%|███████████████████████████████████████| 111/111 [00:01<00:00, 72.62it/s]\n"
     ]
    },
    {
     "name": "stdout",
     "output_type": "stream",
     "text": [
      "Saved new best model with val_acc: 0.8519, val_loss: 0.9558\n",
      "Current LR: 0.000614\n",
      "Train Loss: 1.0587, Train Acc: 0.8084\n",
      "Val Loss: 0.9558, Val Acc: 0.8519\n",
      "\n",
      "Epoch 15/100\n"
     ]
    },
    {
     "name": "stderr",
     "output_type": "stream",
     "text": [
      "Training: 100%|███████████████████████████████████████| 111/111 [00:01<00:00, 62.71it/s]\n"
     ]
    },
    {
     "name": "stdout",
     "output_type": "stream",
     "text": [
      "Saved new best model with val_acc: 0.8583, val_loss: 0.9255\n",
      "Current LR: 0.000672\n",
      "Train Loss: 1.0279, Train Acc: 0.8222\n",
      "Val Loss: 0.9255, Val Acc: 0.8583\n",
      "\n",
      "Epoch 16/100\n"
     ]
    },
    {
     "name": "stderr",
     "output_type": "stream",
     "text": [
      "Training: 100%|███████████████████████████████████████| 111/111 [00:01<00:00, 70.59it/s]\n"
     ]
    },
    {
     "name": "stdout",
     "output_type": "stream",
     "text": [
      "Saved new best model with val_acc: 0.8716, val_loss: 0.8862\n",
      "Current LR: 0.000728\n",
      "Train Loss: 0.9895, Train Acc: 0.8346\n",
      "Val Loss: 0.8862, Val Acc: 0.8716\n",
      "\n",
      "Epoch 17/100\n"
     ]
    },
    {
     "name": "stderr",
     "output_type": "stream",
     "text": [
      "Training: 100%|███████████████████████████████████████| 111/111 [00:01<00:00, 64.58it/s]\n"
     ]
    },
    {
     "name": "stdout",
     "output_type": "stream",
     "text": [
      "Saved new best model with val_acc: 0.8879, val_loss: 0.8566\n",
      "Current LR: 0.000780\n",
      "Train Loss: 0.9734, Train Acc: 0.8408\n",
      "Val Loss: 0.8566, Val Acc: 0.8879\n",
      "\n",
      "Epoch 18/100\n"
     ]
    },
    {
     "name": "stderr",
     "output_type": "stream",
     "text": [
      "Training: 100%|███████████████████████████████████████| 111/111 [00:01<00:00, 63.82it/s]\n"
     ]
    },
    {
     "name": "stdout",
     "output_type": "stream",
     "text": [
      "Current LR: 0.000828\n",
      "Train Loss: 0.9403, Train Acc: 0.8539\n",
      "Val Loss: 0.8691, Val Acc: 0.8835\n",
      "\n",
      "Epoch 19/100\n"
     ]
    },
    {
     "name": "stderr",
     "output_type": "stream",
     "text": [
      "Training: 100%|███████████████████████████████████████| 111/111 [00:01<00:00, 64.99it/s]\n"
     ]
    },
    {
     "name": "stdout",
     "output_type": "stream",
     "text": [
      "Saved new best model with val_acc: 0.8884, val_loss: 0.8360\n",
      "Current LR: 0.000872\n",
      "Train Loss: 0.9198, Train Acc: 0.8612\n",
      "Val Loss: 0.8360, Val Acc: 0.8884\n",
      "\n",
      "Epoch 20/100\n"
     ]
    },
    {
     "name": "stderr",
     "output_type": "stream",
     "text": [
      "Training: 100%|███████████████████████████████████████| 111/111 [00:01<00:00, 68.17it/s]\n"
     ]
    },
    {
     "name": "stdout",
     "output_type": "stream",
     "text": [
      "Saved new best model with val_acc: 0.8933, val_loss: 0.8382\n",
      "Current LR: 0.000910\n",
      "Train Loss: 0.8935, Train Acc: 0.8677\n",
      "Val Loss: 0.8382, Val Acc: 0.8933\n",
      "\n",
      "Epoch 21/100\n"
     ]
    },
    {
     "name": "stderr",
     "output_type": "stream",
     "text": [
      "Training: 100%|███████████████████████████████████████| 111/111 [00:01<00:00, 70.80it/s]\n"
     ]
    },
    {
     "name": "stdout",
     "output_type": "stream",
     "text": [
      "Saved new best model with val_acc: 0.8978, val_loss: 0.8048\n",
      "Current LR: 0.000941\n",
      "Train Loss: 0.8784, Train Acc: 0.8739\n",
      "Val Loss: 0.8048, Val Acc: 0.8978\n",
      "\n",
      "Epoch 22/100\n"
     ]
    },
    {
     "name": "stderr",
     "output_type": "stream",
     "text": [
      "Training: 100%|███████████████████████████████████████| 111/111 [00:01<00:00, 71.39it/s]\n"
     ]
    },
    {
     "name": "stdout",
     "output_type": "stream",
     "text": [
      "Saved new best model with val_acc: 0.9052, val_loss: 0.8052\n",
      "Current LR: 0.000967\n",
      "Train Loss: 0.8574, Train Acc: 0.8853\n",
      "Val Loss: 0.8052, Val Acc: 0.9052\n",
      "\n",
      "Epoch 23/100\n"
     ]
    },
    {
     "name": "stderr",
     "output_type": "stream",
     "text": [
      "Training: 100%|███████████████████████████████████████| 111/111 [00:01<00:00, 71.66it/s]\n"
     ]
    },
    {
     "name": "stdout",
     "output_type": "stream",
     "text": [
      "Current LR: 0.000985\n",
      "Train Loss: 0.8512, Train Acc: 0.8874\n",
      "Val Loss: 0.7844, Val Acc: 0.8968\n",
      "\n",
      "Epoch 24/100\n"
     ]
    },
    {
     "name": "stderr",
     "output_type": "stream",
     "text": [
      "Training: 100%|███████████████████████████████████████| 111/111 [00:01<00:00, 70.04it/s]\n"
     ]
    },
    {
     "name": "stdout",
     "output_type": "stream",
     "text": [
      "Saved new best model with val_acc: 0.9200, val_loss: 0.7699\n",
      "Current LR: 0.000996\n",
      "Train Loss: 0.8313, Train Acc: 0.8876\n",
      "Val Loss: 0.7699, Val Acc: 0.9200\n",
      "\n",
      "Epoch 25/100\n"
     ]
    },
    {
     "name": "stderr",
     "output_type": "stream",
     "text": [
      "Training: 100%|███████████████████████████████████████| 111/111 [00:01<00:00, 68.16it/s]\n"
     ]
    },
    {
     "name": "stdout",
     "output_type": "stream",
     "text": [
      "Current LR: 0.001000\n",
      "Train Loss: 0.8219, Train Acc: 0.8912\n",
      "Val Loss: 0.8200, Val Acc: 0.8889\n",
      "\n",
      "Epoch 26/100\n"
     ]
    },
    {
     "name": "stderr",
     "output_type": "stream",
     "text": [
      "Training: 100%|███████████████████████████████████████| 111/111 [00:01<00:00, 65.29it/s]\n"
     ]
    },
    {
     "name": "stdout",
     "output_type": "stream",
     "text": [
      "Saved new best model with val_acc: 0.9205, val_loss: 0.7521\n",
      "Current LR: 0.001000\n",
      "Train Loss: 0.8013, Train Acc: 0.9002\n",
      "Val Loss: 0.7521, Val Acc: 0.9205\n",
      "\n",
      "Epoch 27/100\n"
     ]
    },
    {
     "name": "stderr",
     "output_type": "stream",
     "text": [
      "Training: 100%|███████████████████████████████████████| 111/111 [00:01<00:00, 65.59it/s]\n"
     ]
    },
    {
     "name": "stdout",
     "output_type": "stream",
     "text": [
      "Saved new best model with val_acc: 0.9230, val_loss: 0.7572\n",
      "Current LR: 0.000998\n",
      "Train Loss: 0.7946, Train Acc: 0.9026\n",
      "Val Loss: 0.7572, Val Acc: 0.9230\n",
      "\n",
      "Epoch 28/100\n"
     ]
    },
    {
     "name": "stderr",
     "output_type": "stream",
     "text": [
      "Training: 100%|███████████████████████████████████████| 111/111 [00:01<00:00, 67.27it/s]\n"
     ]
    },
    {
     "name": "stdout",
     "output_type": "stream",
     "text": [
      "Saved new best model with val_acc: 0.9363, val_loss: 0.7250\n",
      "Current LR: 0.000996\n",
      "Train Loss: 0.7851, Train Acc: 0.9077\n",
      "Val Loss: 0.7250, Val Acc: 0.9363\n",
      "\n",
      "Epoch 29/100\n"
     ]
    },
    {
     "name": "stderr",
     "output_type": "stream",
     "text": [
      "Training: 100%|███████████████████████████████████████| 111/111 [00:01<00:00, 70.42it/s]\n"
     ]
    },
    {
     "name": "stdout",
     "output_type": "stream",
     "text": [
      "Current LR: 0.000993\n",
      "Train Loss: 0.7780, Train Acc: 0.9110\n",
      "Val Loss: 0.7301, Val Acc: 0.9240\n",
      "\n",
      "Epoch 30/100\n"
     ]
    },
    {
     "name": "stderr",
     "output_type": "stream",
     "text": [
      "Training: 100%|███████████████████████████████████████| 111/111 [00:01<00:00, 70.46it/s]\n"
     ]
    },
    {
     "name": "stdout",
     "output_type": "stream",
     "text": [
      "Saved new best model with val_acc: 0.9378, val_loss: 0.7128\n",
      "Current LR: 0.000989\n",
      "Train Loss: 0.7651, Train Acc: 0.9134\n",
      "Val Loss: 0.7128, Val Acc: 0.9378\n",
      "\n",
      "Epoch 31/100\n"
     ]
    },
    {
     "name": "stderr",
     "output_type": "stream",
     "text": [
      "Training: 100%|███████████████████████████████████████| 111/111 [00:01<00:00, 65.16it/s]\n"
     ]
    },
    {
     "name": "stdout",
     "output_type": "stream",
     "text": [
      "Saved new best model with val_acc: 0.9412, val_loss: 0.7067\n",
      "Current LR: 0.000984\n",
      "Train Loss: 0.7617, Train Acc: 0.9190\n",
      "Val Loss: 0.7067, Val Acc: 0.9412\n",
      "\n",
      "Epoch 32/100\n"
     ]
    },
    {
     "name": "stderr",
     "output_type": "stream",
     "text": [
      "Training: 100%|███████████████████████████████████████| 111/111 [00:01<00:00, 68.61it/s]\n"
     ]
    },
    {
     "name": "stdout",
     "output_type": "stream",
     "text": [
      "Current LR: 0.000979\n",
      "Train Loss: 0.7562, Train Acc: 0.9177\n",
      "Val Loss: 0.7014, Val Acc: 0.9393\n",
      "\n",
      "Epoch 33/100\n"
     ]
    },
    {
     "name": "stderr",
     "output_type": "stream",
     "text": [
      "Training: 100%|███████████████████████████████████████| 111/111 [00:01<00:00, 69.78it/s]\n"
     ]
    },
    {
     "name": "stdout",
     "output_type": "stream",
     "text": [
      "Saved new best model with val_acc: 0.9437, val_loss: 0.6911\n",
      "Current LR: 0.000972\n",
      "Train Loss: 0.7391, Train Acc: 0.9242\n",
      "Val Loss: 0.6911, Val Acc: 0.9437\n",
      "\n",
      "Epoch 34/100\n"
     ]
    },
    {
     "name": "stderr",
     "output_type": "stream",
     "text": [
      "Training: 100%|███████████████████████████████████████| 111/111 [00:01<00:00, 63.99it/s]\n"
     ]
    },
    {
     "name": "stdout",
     "output_type": "stream",
     "text": [
      "Current LR: 0.000965\n",
      "Train Loss: 0.7369, Train Acc: 0.9254\n",
      "Val Loss: 0.7365, Val Acc: 0.9205\n",
      "\n",
      "Epoch 35/100\n"
     ]
    },
    {
     "name": "stderr",
     "output_type": "stream",
     "text": [
      "Training: 100%|███████████████████████████████████████| 111/111 [00:01<00:00, 64.20it/s]\n"
     ]
    },
    {
     "name": "stdout",
     "output_type": "stream",
     "text": [
      "Current LR: 0.000957\n",
      "Train Loss: 0.7324, Train Acc: 0.9263\n",
      "Val Loss: 0.7011, Val Acc: 0.9407\n",
      "\n",
      "Epoch 36/100\n"
     ]
    },
    {
     "name": "stderr",
     "output_type": "stream",
     "text": [
      "Training: 100%|███████████████████████████████████████| 111/111 [00:01<00:00, 69.84it/s]\n"
     ]
    },
    {
     "name": "stdout",
     "output_type": "stream",
     "text": [
      "Current LR: 0.000948\n",
      "Train Loss: 0.7209, Train Acc: 0.9277\n",
      "Val Loss: 0.6941, Val Acc: 0.9388\n",
      "\n",
      "Epoch 37/100\n"
     ]
    },
    {
     "name": "stderr",
     "output_type": "stream",
     "text": [
      "Training: 100%|███████████████████████████████████████| 111/111 [00:01<00:00, 70.51it/s]\n"
     ]
    },
    {
     "name": "stdout",
     "output_type": "stream",
     "text": [
      "Current LR: 0.000938\n",
      "Train Loss: 0.7173, Train Acc: 0.9309\n",
      "Val Loss: 0.6978, Val Acc: 0.9393\n",
      "\n",
      "Epoch 38/100\n"
     ]
    },
    {
     "name": "stderr",
     "output_type": "stream",
     "text": [
      "Training: 100%|███████████████████████████████████████| 111/111 [00:01<00:00, 69.98it/s]\n"
     ]
    },
    {
     "name": "stdout",
     "output_type": "stream",
     "text": [
      "Saved new best model with val_acc: 0.9467, val_loss: 0.6801\n",
      "Current LR: 0.000928\n",
      "Train Loss: 0.7086, Train Acc: 0.9314\n",
      "Val Loss: 0.6801, Val Acc: 0.9467\n",
      "\n",
      "Epoch 39/100\n"
     ]
    },
    {
     "name": "stderr",
     "output_type": "stream",
     "text": [
      "Training: 100%|███████████████████████████████████████| 111/111 [00:01<00:00, 70.30it/s]\n"
     ]
    },
    {
     "name": "stdout",
     "output_type": "stream",
     "text": [
      "Saved new best model with val_acc: 0.9491, val_loss: 0.6800\n",
      "Current LR: 0.000916\n",
      "Train Loss: 0.7052, Train Acc: 0.9359\n",
      "Val Loss: 0.6800, Val Acc: 0.9491\n",
      "\n",
      "Epoch 40/100\n"
     ]
    },
    {
     "name": "stderr",
     "output_type": "stream",
     "text": [
      "Training: 100%|███████████████████████████████████████| 111/111 [00:01<00:00, 70.16it/s]\n"
     ]
    },
    {
     "name": "stdout",
     "output_type": "stream",
     "text": [
      "Current LR: 0.000904\n",
      "Train Loss: 0.7074, Train Acc: 0.9345\n",
      "Val Loss: 0.6618, Val Acc: 0.9462\n",
      "\n",
      "Epoch 41/100\n"
     ]
    },
    {
     "name": "stderr",
     "output_type": "stream",
     "text": [
      "Training: 100%|███████████████████████████████████████| 111/111 [00:01<00:00, 66.59it/s]\n"
     ]
    },
    {
     "name": "stdout",
     "output_type": "stream",
     "text": [
      "Current LR: 0.000892\n",
      "Train Loss: 0.7031, Train Acc: 0.9390\n",
      "Val Loss: 0.6789, Val Acc: 0.9486\n",
      "\n",
      "Epoch 42/100\n"
     ]
    },
    {
     "name": "stderr",
     "output_type": "stream",
     "text": [
      "Training: 100%|███████████████████████████████████████| 111/111 [00:01<00:00, 68.50it/s]\n"
     ]
    },
    {
     "name": "stdout",
     "output_type": "stream",
     "text": [
      "Saved new best model with val_acc: 0.9536, val_loss: 0.6561\n",
      "Current LR: 0.000878\n",
      "Train Loss: 0.6962, Train Acc: 0.9370\n",
      "Val Loss: 0.6561, Val Acc: 0.9536\n",
      "\n",
      "Epoch 43/100\n"
     ]
    },
    {
     "name": "stderr",
     "output_type": "stream",
     "text": [
      "Training: 100%|███████████████████████████████████████| 111/111 [00:01<00:00, 70.30it/s]\n"
     ]
    },
    {
     "name": "stdout",
     "output_type": "stream",
     "text": [
      "Current LR: 0.000864\n",
      "Train Loss: 0.6872, Train Acc: 0.9417\n",
      "Val Loss: 0.6709, Val Acc: 0.9521\n",
      "\n",
      "Epoch 44/100\n"
     ]
    },
    {
     "name": "stderr",
     "output_type": "stream",
     "text": [
      "Training: 100%|███████████████████████████████████████| 111/111 [00:01<00:00, 70.67it/s]\n"
     ]
    },
    {
     "name": "stdout",
     "output_type": "stream",
     "text": [
      "Saved new best model with val_acc: 0.9546, val_loss: 0.6775\n",
      "Current LR: 0.000850\n",
      "Train Loss: 0.6842, Train Acc: 0.9433\n",
      "Val Loss: 0.6775, Val Acc: 0.9546\n",
      "\n",
      "Epoch 45/100\n"
     ]
    },
    {
     "name": "stderr",
     "output_type": "stream",
     "text": [
      "Training: 100%|███████████████████████████████████████| 111/111 [00:01<00:00, 69.66it/s]\n"
     ]
    },
    {
     "name": "stdout",
     "output_type": "stream",
     "text": [
      "Current LR: 0.000834\n",
      "Train Loss: 0.6822, Train Acc: 0.9443\n",
      "Val Loss: 0.6487, Val Acc: 0.9521\n",
      "\n",
      "Epoch 46/100\n"
     ]
    },
    {
     "name": "stderr",
     "output_type": "stream",
     "text": [
      "Training: 100%|███████████████████████████████████████| 111/111 [00:01<00:00, 70.56it/s]\n"
     ]
    },
    {
     "name": "stdout",
     "output_type": "stream",
     "text": [
      "Current LR: 0.000819\n",
      "Train Loss: 0.6822, Train Acc: 0.9431\n",
      "Val Loss: 0.6644, Val Acc: 0.9501\n",
      "\n",
      "Epoch 47/100\n"
     ]
    },
    {
     "name": "stderr",
     "output_type": "stream",
     "text": [
      "Training: 100%|███████████████████████████████████████| 111/111 [00:01<00:00, 71.61it/s]\n"
     ]
    },
    {
     "name": "stdout",
     "output_type": "stream",
     "text": [
      "Current LR: 0.000802\n",
      "Train Loss: 0.6819, Train Acc: 0.9441\n",
      "Val Loss: 0.6691, Val Acc: 0.9496\n",
      "\n",
      "Epoch 48/100\n"
     ]
    },
    {
     "name": "stderr",
     "output_type": "stream",
     "text": [
      "Training: 100%|███████████████████████████████████████| 111/111 [00:01<00:00, 71.80it/s]\n"
     ]
    },
    {
     "name": "stdout",
     "output_type": "stream",
     "text": [
      "Saved new best model with val_acc: 0.9556, val_loss: 0.6484\n",
      "Current LR: 0.000785\n",
      "Train Loss: 0.6659, Train Acc: 0.9484\n",
      "Val Loss: 0.6484, Val Acc: 0.9556\n",
      "\n",
      "Epoch 49/100\n"
     ]
    },
    {
     "name": "stderr",
     "output_type": "stream",
     "text": [
      "Training: 100%|███████████████████████████████████████| 111/111 [00:01<00:00, 71.40it/s]\n"
     ]
    },
    {
     "name": "stdout",
     "output_type": "stream",
     "text": [
      "Current LR: 0.000768\n",
      "Train Loss: 0.6654, Train Acc: 0.9469\n",
      "Val Loss: 0.6398, Val Acc: 0.9521\n",
      "\n",
      "Epoch 50/100\n"
     ]
    },
    {
     "name": "stderr",
     "output_type": "stream",
     "text": [
      "Training: 100%|███████████████████████████████████████| 111/111 [00:01<00:00, 71.98it/s]\n"
     ]
    },
    {
     "name": "stdout",
     "output_type": "stream",
     "text": [
      "Current LR: 0.000750\n",
      "Train Loss: 0.6708, Train Acc: 0.9483\n",
      "Val Loss: 0.6635, Val Acc: 0.9556\n",
      "\n",
      "Epoch 51/100\n"
     ]
    },
    {
     "name": "stderr",
     "output_type": "stream",
     "text": [
      "Training: 100%|███████████████████████████████████████| 111/111 [00:01<00:00, 72.70it/s]\n"
     ]
    },
    {
     "name": "stdout",
     "output_type": "stream",
     "text": [
      "Saved new best model with val_acc: 0.9615, val_loss: 0.6515\n",
      "Current LR: 0.000731\n",
      "Train Loss: 0.6602, Train Acc: 0.9505\n",
      "Val Loss: 0.6515, Val Acc: 0.9615\n",
      "\n",
      "Epoch 52/100\n"
     ]
    },
    {
     "name": "stderr",
     "output_type": "stream",
     "text": [
      "Training: 100%|███████████████████████████████████████| 111/111 [00:01<00:00, 72.10it/s]\n"
     ]
    },
    {
     "name": "stdout",
     "output_type": "stream",
     "text": [
      "Current LR: 0.000713\n",
      "Train Loss: 0.6550, Train Acc: 0.9521\n",
      "Val Loss: 0.6336, Val Acc: 0.9580\n",
      "\n",
      "Epoch 53/100\n"
     ]
    },
    {
     "name": "stderr",
     "output_type": "stream",
     "text": [
      "Training: 100%|███████████████████████████████████████| 111/111 [00:01<00:00, 72.11it/s]\n"
     ]
    },
    {
     "name": "stdout",
     "output_type": "stream",
     "text": [
      "Current LR: 0.000694\n",
      "Train Loss: 0.6583, Train Acc: 0.9515\n",
      "Val Loss: 0.6397, Val Acc: 0.9570\n",
      "\n",
      "Epoch 54/100\n"
     ]
    },
    {
     "name": "stderr",
     "output_type": "stream",
     "text": [
      "Training: 100%|███████████████████████████████████████| 111/111 [00:01<00:00, 72.24it/s]\n"
     ]
    },
    {
     "name": "stdout",
     "output_type": "stream",
     "text": [
      "Saved new best model with val_acc: 0.9620, val_loss: 0.6327\n",
      "Current LR: 0.000674\n",
      "Train Loss: 0.6497, Train Acc: 0.9539\n",
      "Val Loss: 0.6327, Val Acc: 0.9620\n",
      "\n",
      "Epoch 55/100\n"
     ]
    },
    {
     "name": "stderr",
     "output_type": "stream",
     "text": [
      "Training: 100%|███████████████████████████████████████| 111/111 [00:01<00:00, 72.04it/s]\n"
     ]
    },
    {
     "name": "stdout",
     "output_type": "stream",
     "text": [
      "Current LR: 0.000654\n",
      "Train Loss: 0.6481, Train Acc: 0.9557\n",
      "Val Loss: 0.6434, Val Acc: 0.9575\n",
      "\n",
      "Epoch 56/100\n"
     ]
    },
    {
     "name": "stderr",
     "output_type": "stream",
     "text": [
      "Training: 100%|███████████████████████████████████████| 111/111 [00:01<00:00, 72.15it/s]\n"
     ]
    },
    {
     "name": "stdout",
     "output_type": "stream",
     "text": [
      "Current LR: 0.000634\n",
      "Train Loss: 0.6466, Train Acc: 0.9546\n",
      "Val Loss: 0.6486, Val Acc: 0.9570\n",
      "\n",
      "Epoch 57/100\n"
     ]
    },
    {
     "name": "stderr",
     "output_type": "stream",
     "text": [
      "Training: 100%|███████████████████████████████████████| 111/111 [00:01<00:00, 72.94it/s]\n"
     ]
    },
    {
     "name": "stdout",
     "output_type": "stream",
     "text": [
      "Current LR: 0.000614\n",
      "Train Loss: 0.6434, Train Acc: 0.9553\n",
      "Val Loss: 0.6543, Val Acc: 0.9541\n",
      "\n",
      "Epoch 58/100\n"
     ]
    },
    {
     "name": "stderr",
     "output_type": "stream",
     "text": [
      "Training: 100%|███████████████████████████████████████| 111/111 [00:01<00:00, 72.73it/s]\n"
     ]
    },
    {
     "name": "stdout",
     "output_type": "stream",
     "text": [
      "Current LR: 0.000594\n",
      "Train Loss: 0.6439, Train Acc: 0.9557\n",
      "Val Loss: 0.6351, Val Acc: 0.9590\n",
      "\n",
      "Epoch 59/100\n"
     ]
    },
    {
     "name": "stderr",
     "output_type": "stream",
     "text": [
      "Training: 100%|███████████████████████████████████████| 111/111 [00:01<00:00, 71.64it/s]\n"
     ]
    },
    {
     "name": "stdout",
     "output_type": "stream",
     "text": [
      "Saved new best model with val_acc: 0.9635, val_loss: 0.6607\n",
      "Current LR: 0.000573\n",
      "Train Loss: 0.6394, Train Acc: 0.9572\n",
      "Val Loss: 0.6607, Val Acc: 0.9635\n",
      "\n",
      "Epoch 60/100\n"
     ]
    },
    {
     "name": "stderr",
     "output_type": "stream",
     "text": [
      "Training: 100%|███████████████████████████████████████| 111/111 [00:01<00:00, 71.82it/s]\n"
     ]
    },
    {
     "name": "stdout",
     "output_type": "stream",
     "text": [
      "Current LR: 0.000552\n",
      "Train Loss: 0.6403, Train Acc: 0.9570\n",
      "Val Loss: 0.6336, Val Acc: 0.9620\n",
      "\n",
      "Epoch 61/100\n"
     ]
    },
    {
     "name": "stderr",
     "output_type": "stream",
     "text": [
      "Training: 100%|███████████████████████████████████████| 111/111 [00:01<00:00, 72.29it/s]\n"
     ]
    },
    {
     "name": "stdout",
     "output_type": "stream",
     "text": [
      "Current LR: 0.000531\n",
      "Train Loss: 0.6361, Train Acc: 0.9579\n",
      "Val Loss: 0.6292, Val Acc: 0.9625\n",
      "\n",
      "Epoch 62/100\n"
     ]
    },
    {
     "name": "stderr",
     "output_type": "stream",
     "text": [
      "Training: 100%|███████████████████████████████████████| 111/111 [00:01<00:00, 72.20it/s]\n"
     ]
    },
    {
     "name": "stdout",
     "output_type": "stream",
     "text": [
      "Current LR: 0.000510\n",
      "Train Loss: 0.6331, Train Acc: 0.9599\n",
      "Val Loss: 0.6513, Val Acc: 0.9580\n",
      "\n",
      "Epoch 63/100\n"
     ]
    },
    {
     "name": "stderr",
     "output_type": "stream",
     "text": [
      "Training: 100%|███████████████████████████████████████| 111/111 [00:01<00:00, 72.18it/s]\n"
     ]
    },
    {
     "name": "stdout",
     "output_type": "stream",
     "text": [
      "Current LR: 0.000489\n",
      "Train Loss: 0.6295, Train Acc: 0.9612\n",
      "Val Loss: 0.6326, Val Acc: 0.9625\n",
      "\n",
      "Epoch 64/100\n"
     ]
    },
    {
     "name": "stderr",
     "output_type": "stream",
     "text": [
      "Training: 100%|███████████████████████████████████████| 111/111 [00:01<00:00, 72.20it/s]\n"
     ]
    },
    {
     "name": "stdout",
     "output_type": "stream",
     "text": [
      "Saved new best model with val_acc: 0.9694, val_loss: 0.6258\n",
      "Current LR: 0.000468\n",
      "Train Loss: 0.6224, Train Acc: 0.9643\n",
      "Val Loss: 0.6258, Val Acc: 0.9694\n",
      "\n",
      "Epoch 65/100\n"
     ]
    },
    {
     "name": "stderr",
     "output_type": "stream",
     "text": [
      "Training: 100%|███████████████████████████████████████| 111/111 [00:01<00:00, 66.59it/s]\n"
     ]
    },
    {
     "name": "stdout",
     "output_type": "stream",
     "text": [
      "Current LR: 0.000448\n",
      "Train Loss: 0.6206, Train Acc: 0.9644\n",
      "Val Loss: 0.6483, Val Acc: 0.9630\n",
      "\n",
      "Epoch 66/100\n"
     ]
    },
    {
     "name": "stderr",
     "output_type": "stream",
     "text": [
      "Training: 100%|███████████████████████████████████████| 111/111 [00:01<00:00, 67.80it/s]\n"
     ]
    },
    {
     "name": "stdout",
     "output_type": "stream",
     "text": [
      "Current LR: 0.000427\n",
      "Train Loss: 0.6196, Train Acc: 0.9642\n",
      "Val Loss: 0.6221, Val Acc: 0.9659\n",
      "\n",
      "Epoch 67/100\n"
     ]
    },
    {
     "name": "stderr",
     "output_type": "stream",
     "text": [
      "Training: 100%|███████████████████████████████████████| 111/111 [00:01<00:00, 63.42it/s]\n"
     ]
    },
    {
     "name": "stdout",
     "output_type": "stream",
     "text": [
      "Current LR: 0.000406\n",
      "Train Loss: 0.6198, Train Acc: 0.9652\n",
      "Val Loss: 0.6261, Val Acc: 0.9664\n",
      "\n",
      "Epoch 68/100\n"
     ]
    },
    {
     "name": "stderr",
     "output_type": "stream",
     "text": [
      "Training: 100%|███████████████████████████████████████| 111/111 [00:01<00:00, 69.22it/s]\n"
     ]
    },
    {
     "name": "stdout",
     "output_type": "stream",
     "text": [
      "Current LR: 0.000386\n",
      "Train Loss: 0.6132, Train Acc: 0.9647\n",
      "Val Loss: 0.6200, Val Acc: 0.9654\n",
      "\n",
      "Epoch 69/100\n"
     ]
    },
    {
     "name": "stderr",
     "output_type": "stream",
     "text": [
      "Training: 100%|███████████████████████████████████████| 111/111 [00:01<00:00, 71.34it/s]\n"
     ]
    },
    {
     "name": "stdout",
     "output_type": "stream",
     "text": [
      "Current LR: 0.000365\n",
      "Train Loss: 0.6174, Train Acc: 0.9666\n",
      "Val Loss: 0.6236, Val Acc: 0.9659\n",
      "\n",
      "Epoch 70/100\n"
     ]
    },
    {
     "name": "stderr",
     "output_type": "stream",
     "text": [
      "Training: 100%|███████████████████████████████████████| 111/111 [00:01<00:00, 72.48it/s]\n"
     ]
    },
    {
     "name": "stdout",
     "output_type": "stream",
     "text": [
      "Current LR: 0.000345\n",
      "Train Loss: 0.6128, Train Acc: 0.9666\n",
      "Val Loss: 0.6286, Val Acc: 0.9674\n",
      "\n",
      "Epoch 71/100\n"
     ]
    },
    {
     "name": "stderr",
     "output_type": "stream",
     "text": [
      "Training: 100%|███████████████████████████████████████| 111/111 [00:01<00:00, 72.02it/s]\n"
     ]
    },
    {
     "name": "stdout",
     "output_type": "stream",
     "text": [
      "Current LR: 0.000326\n",
      "Train Loss: 0.6091, Train Acc: 0.9671\n",
      "Val Loss: 0.6293, Val Acc: 0.9659\n",
      "\n",
      "Epoch 72/100\n"
     ]
    },
    {
     "name": "stderr",
     "output_type": "stream",
     "text": [
      "Training: 100%|███████████████████████████████████████| 111/111 [00:01<00:00, 72.42it/s]\n"
     ]
    },
    {
     "name": "stdout",
     "output_type": "stream",
     "text": [
      "Current LR: 0.000306\n",
      "Train Loss: 0.6109, Train Acc: 0.9679\n",
      "Val Loss: 0.6368, Val Acc: 0.9630\n",
      "\n",
      "Epoch 73/100\n"
     ]
    },
    {
     "name": "stderr",
     "output_type": "stream",
     "text": [
      "Training: 100%|███████████████████████████████████████| 111/111 [00:01<00:00, 72.03it/s]\n"
     ]
    },
    {
     "name": "stdout",
     "output_type": "stream",
     "text": [
      "Current LR: 0.000287\n",
      "Train Loss: 0.6074, Train Acc: 0.9670\n",
      "Val Loss: 0.6203, Val Acc: 0.9679\n",
      "\n",
      "Epoch 74/100\n"
     ]
    },
    {
     "name": "stderr",
     "output_type": "stream",
     "text": [
      "Training: 100%|███████████████████████████████████████| 111/111 [00:01<00:00, 63.31it/s]\n"
     ]
    },
    {
     "name": "stdout",
     "output_type": "stream",
     "text": [
      "Current LR: 0.000268\n",
      "Train Loss: 0.6040, Train Acc: 0.9707\n",
      "Val Loss: 0.6301, Val Acc: 0.9640\n",
      "\n",
      "Epoch 75/100\n"
     ]
    },
    {
     "name": "stderr",
     "output_type": "stream",
     "text": [
      "Training: 100%|███████████████████████████████████████| 111/111 [00:01<00:00, 72.29it/s]\n"
     ]
    },
    {
     "name": "stdout",
     "output_type": "stream",
     "text": [
      "Current LR: 0.000250\n",
      "Train Loss: 0.6051, Train Acc: 0.9699\n",
      "Val Loss: 0.6345, Val Acc: 0.9635\n",
      "\n",
      "Epoch 76/100\n"
     ]
    },
    {
     "name": "stderr",
     "output_type": "stream",
     "text": [
      "Training: 100%|███████████████████████████████████████| 111/111 [00:01<00:00, 72.55it/s]\n"
     ]
    },
    {
     "name": "stdout",
     "output_type": "stream",
     "text": [
      "Current LR: 0.000232\n",
      "Train Loss: 0.6025, Train Acc: 0.9715\n",
      "Val Loss: 0.6150, Val Acc: 0.9659\n",
      "\n",
      "Epoch 77/100\n"
     ]
    },
    {
     "name": "stderr",
     "output_type": "stream",
     "text": [
      "Training: 100%|███████████████████████████████████████| 111/111 [00:01<00:00, 71.44it/s]\n"
     ]
    },
    {
     "name": "stdout",
     "output_type": "stream",
     "text": [
      "Current LR: 0.000215\n",
      "Train Loss: 0.6015, Train Acc: 0.9710\n",
      "Val Loss: 0.6246, Val Acc: 0.9669\n",
      "\n",
      "Epoch 78/100\n"
     ]
    },
    {
     "name": "stderr",
     "output_type": "stream",
     "text": [
      "Training: 100%|███████████████████████████████████████| 111/111 [00:01<00:00, 72.58it/s]\n"
     ]
    },
    {
     "name": "stdout",
     "output_type": "stream",
     "text": [
      "Current LR: 0.000198\n",
      "Train Loss: 0.5958, Train Acc: 0.9725\n",
      "Val Loss: 0.6237, Val Acc: 0.9694\n",
      "\n",
      "Epoch 79/100\n"
     ]
    },
    {
     "name": "stderr",
     "output_type": "stream",
     "text": [
      "Training: 100%|███████████████████████████████████████| 111/111 [00:01<00:00, 72.31it/s]\n"
     ]
    },
    {
     "name": "stdout",
     "output_type": "stream",
     "text": [
      "Current LR: 0.000181\n",
      "Train Loss: 0.5980, Train Acc: 0.9707\n",
      "Val Loss: 0.6354, Val Acc: 0.9684\n",
      "\n",
      "Epoch 80/100\n"
     ]
    },
    {
     "name": "stderr",
     "output_type": "stream",
     "text": [
      "Training: 100%|███████████████████████████████████████| 111/111 [00:01<00:00, 71.91it/s]\n"
     ]
    },
    {
     "name": "stdout",
     "output_type": "stream",
     "text": [
      "Saved new best model with val_acc: 0.9704, val_loss: 0.6234\n",
      "Current LR: 0.000165\n",
      "Train Loss: 0.5969, Train Acc: 0.9733\n",
      "Val Loss: 0.6234, Val Acc: 0.9704\n",
      "\n",
      "Epoch 81/100\n"
     ]
    },
    {
     "name": "stderr",
     "output_type": "stream",
     "text": [
      "Training: 100%|███████████████████████████████████████| 111/111 [00:01<00:00, 71.79it/s]\n"
     ]
    },
    {
     "name": "stdout",
     "output_type": "stream",
     "text": [
      "Current LR: 0.000150\n",
      "Train Loss: 0.5967, Train Acc: 0.9731\n",
      "Val Loss: 0.6249, Val Acc: 0.9694\n",
      "\n",
      "Epoch 82/100\n"
     ]
    },
    {
     "name": "stderr",
     "output_type": "stream",
     "text": [
      "Training: 100%|███████████████████████████████████████| 111/111 [00:01<00:00, 72.48it/s]\n"
     ]
    },
    {
     "name": "stdout",
     "output_type": "stream",
     "text": [
      "Current LR: 0.000135\n",
      "Train Loss: 0.5918, Train Acc: 0.9746\n",
      "Val Loss: 0.6192, Val Acc: 0.9689\n",
      "\n",
      "Epoch 83/100\n"
     ]
    },
    {
     "name": "stderr",
     "output_type": "stream",
     "text": [
      "Training: 100%|███████████████████████████████████████| 111/111 [00:01<00:00, 71.68it/s]\n"
     ]
    },
    {
     "name": "stdout",
     "output_type": "stream",
     "text": [
      "Current LR: 0.000121\n",
      "Train Loss: 0.5891, Train Acc: 0.9748\n",
      "Val Loss: 0.6250, Val Acc: 0.9684\n",
      "\n",
      "Epoch 84/100\n"
     ]
    },
    {
     "name": "stderr",
     "output_type": "stream",
     "text": [
      "Training: 100%|███████████████████████████████████████| 111/111 [00:01<00:00, 72.37it/s]\n"
     ]
    },
    {
     "name": "stdout",
     "output_type": "stream",
     "text": [
      "Current LR: 0.000108\n",
      "Train Loss: 0.5868, Train Acc: 0.9750\n",
      "Val Loss: 0.6178, Val Acc: 0.9689\n",
      "\n",
      "Epoch 85/100\n"
     ]
    },
    {
     "name": "stderr",
     "output_type": "stream",
     "text": [
      "Training: 100%|███████████████████████████████████████| 111/111 [00:01<00:00, 72.33it/s]\n"
     ]
    },
    {
     "name": "stdout",
     "output_type": "stream",
     "text": [
      "Current LR: 0.000095\n",
      "Train Loss: 0.5889, Train Acc: 0.9759\n",
      "Val Loss: 0.6225, Val Acc: 0.9689\n",
      "\n",
      "Epoch 86/100\n"
     ]
    },
    {
     "name": "stderr",
     "output_type": "stream",
     "text": [
      "Training: 100%|███████████████████████████████████████| 111/111 [00:01<00:00, 72.36it/s]\n"
     ]
    },
    {
     "name": "stdout",
     "output_type": "stream",
     "text": [
      "Current LR: 0.000083\n",
      "Train Loss: 0.5841, Train Acc: 0.9779\n",
      "Val Loss: 0.6197, Val Acc: 0.9674\n",
      "\n",
      "Epoch 87/100\n"
     ]
    },
    {
     "name": "stderr",
     "output_type": "stream",
     "text": [
      "Training: 100%|███████████████████████████████████████| 111/111 [00:01<00:00, 72.65it/s]\n"
     ]
    },
    {
     "name": "stdout",
     "output_type": "stream",
     "text": [
      "Current LR: 0.000072\n",
      "Train Loss: 0.5896, Train Acc: 0.9743\n",
      "Val Loss: 0.6159, Val Acc: 0.9694\n",
      "\n",
      "Epoch 88/100\n"
     ]
    },
    {
     "name": "stderr",
     "output_type": "stream",
     "text": [
      "Training: 100%|███████████████████████████████████████| 111/111 [00:01<00:00, 72.72it/s]\n"
     ]
    },
    {
     "name": "stdout",
     "output_type": "stream",
     "text": [
      "Current LR: 0.000062\n",
      "Train Loss: 0.5851, Train Acc: 0.9766\n",
      "Val Loss: 0.6147, Val Acc: 0.9694\n",
      "\n",
      "Epoch 89/100\n"
     ]
    },
    {
     "name": "stderr",
     "output_type": "stream",
     "text": [
      "Training: 100%|███████████████████████████████████████| 111/111 [00:01<00:00, 71.79it/s]\n"
     ]
    },
    {
     "name": "stdout",
     "output_type": "stream",
     "text": [
      "Current LR: 0.000052\n",
      "Train Loss: 0.5865, Train Acc: 0.9754\n",
      "Val Loss: 0.6241, Val Acc: 0.9684\n",
      "\n",
      "Epoch 90/100\n"
     ]
    },
    {
     "name": "stderr",
     "output_type": "stream",
     "text": [
      "Training: 100%|███████████████████████████████████████| 111/111 [00:01<00:00, 72.76it/s]\n"
     ]
    },
    {
     "name": "stdout",
     "output_type": "stream",
     "text": [
      "Current LR: 0.000043\n",
      "Train Loss: 0.5860, Train Acc: 0.9769\n",
      "Val Loss: 0.6204, Val Acc: 0.9694\n",
      "\n",
      "Epoch 91/100\n"
     ]
    },
    {
     "name": "stderr",
     "output_type": "stream",
     "text": [
      "Training: 100%|███████████████████████████████████████| 111/111 [00:01<00:00, 71.68it/s]\n"
     ]
    },
    {
     "name": "stdout",
     "output_type": "stream",
     "text": [
      "Saved new best model with val_acc: 0.9719, val_loss: 0.6367\n",
      "Current LR: 0.000035\n",
      "Train Loss: 0.5808, Train Acc: 0.9769\n",
      "Val Loss: 0.6367, Val Acc: 0.9719\n",
      "\n",
      "Epoch 92/100\n"
     ]
    },
    {
     "name": "stderr",
     "output_type": "stream",
     "text": [
      "Training: 100%|███████████████████████████████████████| 111/111 [00:01<00:00, 72.01it/s]\n"
     ]
    },
    {
     "name": "stdout",
     "output_type": "stream",
     "text": [
      "Current LR: 0.000028\n",
      "Train Loss: 0.5836, Train Acc: 0.9760\n",
      "Val Loss: 0.6178, Val Acc: 0.9699\n",
      "\n",
      "Epoch 93/100\n"
     ]
    },
    {
     "name": "stderr",
     "output_type": "stream",
     "text": [
      "Training: 100%|███████████████████████████████████████| 111/111 [00:01<00:00, 71.12it/s]\n"
     ]
    },
    {
     "name": "stdout",
     "output_type": "stream",
     "text": [
      "Current LR: 0.000021\n",
      "Train Loss: 0.5790, Train Acc: 0.9783\n",
      "Val Loss: 0.6133, Val Acc: 0.9684\n",
      "\n",
      "Epoch 94/100\n"
     ]
    },
    {
     "name": "stderr",
     "output_type": "stream",
     "text": [
      "Training: 100%|███████████████████████████████████████| 111/111 [00:01<00:00, 72.40it/s]\n"
     ]
    },
    {
     "name": "stdout",
     "output_type": "stream",
     "text": [
      "Current LR: 0.000016\n",
      "Train Loss: 0.5827, Train Acc: 0.9757\n",
      "Val Loss: 0.6128, Val Acc: 0.9684\n",
      "\n",
      "Epoch 95/100\n"
     ]
    },
    {
     "name": "stderr",
     "output_type": "stream",
     "text": [
      "Training: 100%|███████████████████████████████████████| 111/111 [00:01<00:00, 72.37it/s]\n"
     ]
    },
    {
     "name": "stdout",
     "output_type": "stream",
     "text": [
      "Current LR: 0.000011\n",
      "Train Loss: 0.5840, Train Acc: 0.9777\n",
      "Val Loss: 0.6159, Val Acc: 0.9694\n",
      "\n",
      "Epoch 96/100\n"
     ]
    },
    {
     "name": "stderr",
     "output_type": "stream",
     "text": [
      "Training: 100%|███████████████████████████████████████| 111/111 [00:01<00:00, 72.16it/s]\n"
     ]
    },
    {
     "name": "stdout",
     "output_type": "stream",
     "text": [
      "Current LR: 0.000007\n",
      "Train Loss: 0.5812, Train Acc: 0.9782\n",
      "Val Loss: 0.6160, Val Acc: 0.9689\n",
      "\n",
      "Epoch 97/100\n"
     ]
    },
    {
     "name": "stderr",
     "output_type": "stream",
     "text": [
      "Training: 100%|███████████████████████████████████████| 111/111 [00:01<00:00, 72.35it/s]\n"
     ]
    },
    {
     "name": "stdout",
     "output_type": "stream",
     "text": [
      "Current LR: 0.000004\n",
      "Train Loss: 0.5829, Train Acc: 0.9764\n",
      "Val Loss: 0.6158, Val Acc: 0.9684\n",
      "\n",
      "Epoch 98/100\n"
     ]
    },
    {
     "name": "stderr",
     "output_type": "stream",
     "text": [
      "Training: 100%|███████████████████████████████████████| 111/111 [00:01<00:00, 72.75it/s]\n"
     ]
    },
    {
     "name": "stdout",
     "output_type": "stream",
     "text": [
      "Current LR: 0.000002\n",
      "Train Loss: 0.5851, Train Acc: 0.9762\n",
      "Val Loss: 0.6217, Val Acc: 0.9684\n",
      "\n",
      "Epoch 99/100\n"
     ]
    },
    {
     "name": "stderr",
     "output_type": "stream",
     "text": [
      "Training: 100%|███████████████████████████████████████| 111/111 [00:01<00:00, 72.01it/s]\n"
     ]
    },
    {
     "name": "stdout",
     "output_type": "stream",
     "text": [
      "Current LR: 0.000000\n",
      "Train Loss: 0.5846, Train Acc: 0.9777\n",
      "Val Loss: 0.6244, Val Acc: 0.9684\n",
      "\n",
      "Epoch 100/100\n"
     ]
    },
    {
     "name": "stderr",
     "output_type": "stream",
     "text": [
      "Training: 100%|███████████████████████████████████████| 111/111 [00:01<00:00, 72.59it/s]\n"
     ]
    },
    {
     "name": "stdout",
     "output_type": "stream",
     "text": [
      "Current LR: 0.000000\n",
      "Train Loss: 0.5813, Train Acc: 0.9774\n",
      "Val Loss: 0.6138, Val Acc: 0.9684\n"
     ]
    },
    {
     "data": {
      "image/png": "[encoded data removed]",
      "text/plain": [
       "<Figure size 1200x400 with 2 Axes>"
      ]
     },
     "metadata": {},
     "output_type": "display_data"
    },
    {
     "name": "stderr",
     "output_type": "stream",
     "text": [
      "/Users/ww/Desktop/ecg_snn_project/notebooks/../src/utils/training.py:270: FutureWarning: You are using `torch.load` with `weights_only=False` (the current default value), which uses the default pickle module implicitly. It is possible to construct malicious pickle data which will execute arbitrary code during unpickling (See https://github.com/pytorch/pytorch/blob/main/SECURITY.md#untrusted-models for more details). In a future release, the default value for `weights_only` will be flipped to `True`. This limits the functions that could be executed during unpickling. Arbitrary objects will no longer be allowed to be loaded via this mode unless they are explicitly allowlisted by the user via `torch.serialization.add_safe_globals`. We recommend you start setting `weights_only=True` for any use case where you don't have full control of the loaded file. Please open an issue on GitHub for any issues related to this experimental feature.\n",
      "  checkpoint = torch.load('best_model.pth')\n"
     ]
    },
    {
     "name": "stdout",
     "output_type": "stream",
     "text": [
      "\n",
      "Loaded best model from epoch 91\n",
      "\n",
      "Test Results:\n",
      "Test Loss: 0.6193\n",
      "Test Accuracy: 0.9694\n",
      "\n",
      "Classification Report:\n",
      "              precision    recall  f1-score   support\n",
      "\n",
      "           A       0.96      0.99      0.97       810\n",
      "           L       0.99      0.99      0.99       810\n",
      "           N       0.97      0.94      0.95       810\n",
      "           R       0.98      0.99      0.98       810\n",
      "           V       0.95      0.94      0.95       810\n",
      "\n",
      "    accuracy                           0.97      4050\n",
      "   macro avg       0.97      0.97      0.97      4050\n",
      "weighted avg       0.97      0.97      0.97      4050\n",
      "\n"
     ]
    },
    {
     "data": {
      "image/png": "[encoded data removed]",
      "text/plain": [
       "<Figure size 1000x800 with 2 Axes>"
      ]
     },
     "metadata": {},
     "output_type": "display_data"
    }
   ],
   "source": [
    "\n",
    "model, history = train_model(processed_data, num_epochs=100, batch_size=128, lr=0.001)"
   ]
  },
  {
   "cell_type": "code",
   "execution_count": 3,
   "id": "68308c8c-82d3-470e-a7c9-6b5fdab6d9e4",
   "metadata": {},
   "outputs": [
    {
     "ename": "ModuleNotFoundError",
     "evalue": "No module named 'GPUtil'",
     "output_type": "error",
     "traceback": [
      "\u001b[0;31m---------------------------------------------------------------------------\u001b[0m",
      "\u001b[0;31mModuleNotFoundError\u001b[0m                       Traceback (most recent call last)",
      "Cell \u001b[0;32mIn[3], line 9\u001b[0m\n\u001b[1;32m      7\u001b[0m \u001b[38;5;28;01mfrom\u001b[39;00m \u001b[38;5;21;01msklearn\u001b[39;00m\u001b[38;5;21;01m.\u001b[39;00m\u001b[38;5;21;01mmetrics\u001b[39;00m \u001b[38;5;28;01mimport\u001b[39;00m confusion_matrix, classification_report\n\u001b[1;32m      8\u001b[0m \u001b[38;5;28;01mimport\u001b[39;00m \u001b[38;5;21;01mpsutil\u001b[39;00m\n\u001b[0;32m----> 9\u001b[0m \u001b[38;5;28;01mimport\u001b[39;00m \u001b[38;5;21;01mGPUtil\u001b[39;00m\n\u001b[1;32m     10\u001b[0m \u001b[38;5;28;01mfrom\u001b[39;00m \u001b[38;5;21;01mdatetime\u001b[39;00m \u001b[38;5;28;01mimport\u001b[39;00m datetime\n\u001b[1;32m     12\u001b[0m \u001b[38;5;28;01mclass\u001b[39;00m \u001b[38;5;21;01mExperimentAnalysis\u001b[39;00m:\n",
      "\u001b[0;31mModuleNotFoundError\u001b[0m: No module named 'GPUtil'"
     ]
    }
   ],
   "source": [
    "# 继续在您的代码后添加实验部分\n",
    "\n",
    "import torch.nn as nn\n",
    "import time\n",
    "import matplotlib.pyplot as plt\n",
    "import seaborn as sns\n",
    "from sklearn.metrics import confusion_matrix, classification_report\n",
    "import psutil\n",
    "import GPUtil\n",
    "from datetime import datetime\n",
    "\n",
    "class ExperimentAnalysis:\n",
    "    def __init__(self, model, processed_data, device):\n",
    "        self.model = model\n",
    "        self.processed_data = processed_data\n",
    "        self.device = device\n",
    "        self.results = {}\n",
    "        \n",
    "    def performance_analysis(self):\n",
    "        \"\"\"模型性能分析\"\"\"\n",
    "        print(\"\\n开始性能分析...\")\n",
    "        \n",
    "        # 创建数据加载器\n",
    "        _, _, test_loader = create_dataloaders(\n",
    "            self.processed_data['X_train'], self.processed_data['y_train'],\n",
    "            self.processed_data['X_val'], self.processed_data['y_val'],\n",
    "            self.processed_data['X_test'], self.processed_data['y_test']\n",
    "        )\n",
    "        \n",
    "        # 模型评估\n",
    "        self.model.eval()\n",
    "        all_preds = []\n",
    "        all_labels = []\n",
    "        inference_times = []\n",
    "        \n",
    "        with torch.no_grad():\n",
    "            for inputs, labels in test_loader:\n",
    "                inputs = inputs.to(self.device)\n",
    "                start_time = time.time()\n",
    "                outputs = self.model(inputs)\n",
    "                inference_times.append(time.time() - start_time)\n",
    "                \n",
    "                preds = outputs.argmax(dim=1).cpu()\n",
    "                all_preds.extend(preds.numpy())\n",
    "                all_labels.extend(labels.numpy())\n",
    "        \n",
    "        # 计算混淆矩阵\n",
    "        cm = confusion_matrix(all_labels, all_preds)\n",
    "        \n",
    "        # 绘制混淆矩阵\n",
    "        plt.figure(figsize=(10, 8))\n",
    "        sns.heatmap(cm, annot=True, fmt='d', cmap='Blues',\n",
    "                    xticklabels=self.processed_data['classes'],\n",
    "                    yticklabels=self.processed_data['classes'])\n",
    "        plt.title('混淆矩阵')\n",
    "        plt.xlabel('预测类别')\n",
    "        plt.ylabel('真实类别')\n",
    "        plt.tight_layout()\n",
    "        plt.savefig('confusion_matrix.png')\n",
    "        plt.close()\n",
    "        \n",
    "        # 保存性能指标\n",
    "        self.results['performance'] = {\n",
    "            'classification_report': classification_report(\n",
    "                all_labels, all_preds, \n",
    "                target_names=self.processed_data['classes']\n",
    "            ),\n",
    "            'avg_inference_time': np.mean(inference_times)\n",
    "        }\n",
    "        \n",
    "        print(\"\\n分类报告:\")\n",
    "        print(self.results['performance']['classification_report'])\n",
    "        print(f\"\\n平均推理时间: {self.results['performance']['avg_inference_time']*1000:.2f} ms\")\n",
    "        \n",
    "    def energy_consumption_analysis(self, duration=60):\n",
    "        \"\"\"能耗分析\"\"\"\n",
    "        print(\"\\n开始能耗分析...\")\n",
    "        \n",
    "        metrics = {\n",
    "            'timestamp': [],\n",
    "            'cpu_usage': [],\n",
    "            'memory_usage': [],\n",
    "            'gpu_usage': [] if torch.cuda.is_available() else None\n",
    "        }\n",
    "        \n",
    "        start_time = time.time()\n",
    "        while (time.time() - start_time) < duration:\n",
    "            # CPU使用率\n",
    "            metrics['cpu_usage'].append(psutil.cpu_percent())\n",
    "            \n",
    "            # 内存使用\n",
    "            memory = psutil.Process().memory_info()\n",
    "            metrics['memory_usage'].append(memory.rss / 1024 / 1024)  # MB\n",
    "            \n",
    "            # GPU使用率\n",
    "            if torch.cuda.is_available():\n",
    "                metrics['gpu_usage'].append(GPUtil.getGPUs()[0].load * 100)\n",
    "                \n",
    "            metrics['timestamp'].append(time.time() - start_time)\n",
    "            time.sleep(0.1)\n",
    "        \n",
    "        # 绘制资源使用图\n",
    "        plt.figure(figsize=(12, 8))\n",
    "        \n",
    "        plt.subplot(211)\n",
    "        plt.plot(metrics['timestamp'], metrics['cpu_usage'])\n",
    "        plt.title('CPU使用率')\n",
    "        plt.xlabel('时间 (秒)')\n",
    "        plt.ylabel('使用率 (%)')\n",
    "        \n",
    "        plt.subplot(212)\n",
    "        plt.plot(metrics['timestamp'], metrics['memory_usage'])\n",
    "        plt.title('内存使用')\n",
    "        plt.xlabel('时间 (秒)')\n",
    "        plt.ylabel('使用量 (MB)')\n",
    "        \n",
    "        plt.tight_layout()\n",
    "        plt.savefig('resource_usage.png')\n",
    "        plt.close()\n",
    "        \n",
    "        self.results['energy'] = {\n",
    "            'avg_cpu_usage': np.mean(metrics['cpu_usage']),\n",
    "            'avg_memory_usage': np.mean(metrics['memory_usage']),\n",
    "            'avg_gpu_usage': np.mean(metrics['gpu_usage']) if torch.cuda.is_available() else None\n",
    "        }\n",
    "        \n",
    "        print(\"\\n资源使用情况:\")\n",
    "        print(f\"平均CPU使用率: {self.results['energy']['avg_cpu_usage']:.1f}%\")\n",
    "        print(f\"平均内存使用: {self.results['energy']['avg_memory_usage']:.1f} MB\")\n",
    "        if torch.cuda.is_available():\n",
    "            print(f\"平均GPU使用率: {self.results['energy']['avg_gpu_usage']:.1f}%\")\n",
    "            \n",
    "    def ablation_study(self):\n",
    "        \"\"\"消融实验\"\"\"\n",
    "        print(\"\\n开始消融实验...\")\n",
    "        \n",
    "        # 这里需要根据您的模型结构定义不同的变体\n",
    "        variants = {\n",
    "            'full_model': self.model,\n",
    "            'no_temporal': self.model_without_temporal(),\n",
    "            'reduced_neurons': self.model_with_reduced_neurons()\n",
    "        }\n",
    "        \n",
    "        results = {}\n",
    "        for name, model_variant in variants.items():\n",
    "            # 训练和评估每个变体\n",
    "            accuracy = self.evaluate_variant(model_variant)\n",
    "            results[name] = accuracy\n",
    "            \n",
    "        # 绘制结果对比\n",
    "        plt.figure(figsize=(10, 6))\n",
    "        plt.bar(results.keys(), results.values())\n",
    "        plt.title('消融实验结果')\n",
    "        plt.xlabel('模型变体')\n",
    "        plt.ylabel('准确率')\n",
    "        plt.xticks(rotation=45)\n",
    "        plt.tight_layout()\n",
    "        plt.savefig('ablation_study.png')\n",
    "        plt.close()\n",
    "        \n",
    "        self.results['ablation'] = results\n",
    "        \n",
    "    def parameter_sensitivity(self):\n",
    "        \"\"\"参数敏感性分析\"\"\"\n",
    "        print(\"\\n开始参数敏感性分析...\")\n",
    "        \n",
    "        # 定义要测试的参数范围\n",
    "        parameters = {\n",
    "            'threshold': [0.1, 0.3, 0.5, 0.7, 0.9],\n",
    "            'tau': [1.0, 2.0, 5.0, 10.0],\n",
    "            'learning_rate': [0.001, 0.01, 0.1]\n",
    "        }\n",
    "        \n",
    "        sensitivity_results = {}\n",
    "        for param_name, param_values in parameters.items():\n",
    "            accuracies = []\n",
    "            for value in param_values:\n",
    "                # 使用不同参数值训练模型\n",
    "                accuracy = self.train_with_parameter(param_name, value)\n",
    "                accuracies.append(accuracy)\n",
    "            sensitivity_results[param_name] = accuracies\n",
    "            \n",
    "        # 绘制敏感性分析结果\n",
    "        plt.figure(figsize=(15, 5))\n",
    "        for i, (param_name, accuracies) in enumerate(sensitivity_results.items()):\n",
    "            plt.subplot(1, 3, i+1)\n",
    "            plt.plot(parameters[param_name], accuracies, '-o')\n",
    "            plt.title(f'{param_name}敏感性')\n",
    "            plt.xlabel('参数值')\n",
    "            plt.ylabel('准确率')\n",
    "        \n",
    "        plt.tight_layout()\n",
    "        plt.savefig('parameter_sensitivity.png')\n",
    "        plt.close()\n",
    "        \n",
    "        self.results['sensitivity'] = sensitivity_results\n",
    "\n",
    "# 使用示例\n",
    "def run_experiments(model, processed_data, device):\n",
    "    experiment = ExperimentAnalysis(model, processed_data, device)\n",
    "    \n",
    "    # 运行所有实验\n",
    "    experiment.performance_analysis()\n",
    "    experiment.energy_consumption_analysis()\n",
    "    experiment.ablation_study()\n",
    "    experiment.parameter_sensitivity()\n",
    "    \n",
    "    # 保存实验结果\n",
    "    with open('experiment_results.pkl', 'wb') as f:\n",
    "        pickle.dump(experiment.results, f)\n",
    "    \n",
    "    return experiment.results\n",
    "\n",
    "# 在您的主代码中调用\n",
    "if __name__ == \"__main__\":\n",
    "    device = torch.device('cuda' if torch.cuda.is_available() else 'cpu')\n",
    "    results = run_experiments(model, processed_data, device)"
   ]
  },
  {
   "cell_type": "code",
   "execution_count": null,
   "id": "2ec8c3f1-a691-4954-aec2-1b0ef7c1deba",
   "metadata": {},
   "outputs": [],
   "source": []
  }
 ],
 "metadata": {
  "kernelspec": {
   "display_name": "Python 3 (ipykernel)",
   "language": "python",
   "name": "python3"
  },
  "language_info": {
   "codemirror_mode": {
    "name": "ipython",
    "version": 3
   },
   "file_extension": ".py",
   "mimetype": "text/x-python",
   "name": "python",
   "nbconvert_exporter": "python",
   "pygments_lexer": "ipython3",
   "version": "3.8.20"
  }
 },
 "nbformat": 4,
 "nbformat_minor": 5
}
